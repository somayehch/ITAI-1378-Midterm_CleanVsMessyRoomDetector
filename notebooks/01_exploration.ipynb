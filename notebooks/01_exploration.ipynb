{
  "cells": [
    {
      "cell_type": "markdown",
      "metadata": {},
      "source": [
        "# Exploration Notebook\n",
        "\n",
        "Initial dataset and preprocessing experiments will go here.\n",
        "\n",
        "Steps:\n",
        "- Load a few sample images\n",
        "- Visualize clean vs messy examples\n",
        "- Check image sizes and color ranges\n",
        "- Plan preprocessing pipeline\n"
      ]
    }
  ],
  "metadata": {},
  "nbformat": 4,
  "nbformat_minor": 5
}
